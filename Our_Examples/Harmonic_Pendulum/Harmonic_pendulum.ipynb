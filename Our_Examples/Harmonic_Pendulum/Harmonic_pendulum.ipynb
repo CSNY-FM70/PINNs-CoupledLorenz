{
 "cells": [
  {
   "cell_type": "markdown",
   "id": "737f76de",
   "metadata": {},
   "source": [
    "## Import all libraries\n",
    " >Note that deepxde imports tensorflow already"
   ]
  },
  {
   "cell_type": "code",
   "execution_count": 22,
   "id": "e4961fe4",
   "metadata": {},
   "outputs": [],
   "source": [
    "import deepxde as dde\n",
    "import numpy as np"
   ]
  },
  {
   "cell_type": "markdown",
   "id": "6c2b4b16",
   "metadata": {},
   "source": [
    "## Definition of the problem constants\n",
    "- phi_0 > This number has to be less than 2 degree [deg]\n",
    "- g = 9.81 > Gravity [m/s^2]\n",
    "- L = 2\t> Length of cord attached to mass [m]\n",
    "- t_end > Time [s]"
   ]
  },
  {
   "cell_type": "code",
   "execution_count": 24,
   "id": "76884e8c",
   "metadata": {},
   "outputs": [],
   "source": [
    "phi_0 = 1\n",
    "g = 9.81\n",
    "L = 2\n",
    "t_end = 5"
   ]
  },
  {
   "cell_type": "markdown",
   "id": "7fede5d0",
   "metadata": {},
   "source": [
    "## Specification of the geometry\n",
    ">Note that this example is only time dependent, no space domain"
   ]
  },
  {
   "cell_type": "code",
   "execution_count": 25,
   "id": "fdbb4ad8",
   "metadata": {},
   "outputs": [],
   "source": [
    "geom = dde.geometry.TimeDomain(0,t_end)"
   ]
  },
  {
   "cell_type": "markdown",
   "id": "0a9dd371",
   "metadata": {},
   "source": [
    "## We define the ODE \n",
    "Define the residual using Tensowrflow syntax.\n",
    "\n",
    "$$\n",
    "d^2phi/dt^2 = - (g/L) * phi\n",
    "$$\n",
    "\n",
    ">Note that we need the implicit form here."
   ]
  },
  {
   "cell_type": "code",
   "execution_count": 26,
   "id": "6cf12976",
   "metadata": {},
   "outputs": [],
   "source": [
    "def ode(t, phi):\n",
    "    d_phi_t = dde.grad.hessian(phi, t)\n",
    "    return (d_phi_t + (g/L) * phi)/phi_0"
   ]
  },
  {
   "cell_type": "markdown",
   "id": "52b8889d",
   "metadata": {},
   "source": [
    "## Add analytical solution\n",
    "The analytical solution will only be displayed in the plots for visual comparison.  \n",
    "This step is optional.\n",
    "\n",
    "$$\n",
    "phi(t) = phi_0 * cos(sqrt(g/L)*t)\n",
    "$$"
   ]
  },
  {
   "cell_type": "code",
   "execution_count": 27,
   "id": "b70e367d",
   "metadata": {},
   "outputs": [],
   "source": [
    "def func(t):\n",
    "    return (phi_0 * np.cos(np.sqrt(g/L)*t))"
   ]
  },
  {
   "cell_type": "markdown",
   "id": "2e9f9d26",
   "metadata": {},
   "source": [
    "## Add initial condition\n",
    "$$\n",
    "phi(0)=phi_0\n",
    "$$"
   ]
  },
  {
   "cell_type": "code",
   "execution_count": 28,
   "id": "578d2293",
   "metadata": {},
   "outputs": [],
   "source": [
    "ic = dde.icbc.IC(geom, lambda x:phi_0, lambda _, on_initial: on_initial)"
   ]
  },
  {
   "cell_type": "markdown",
   "id": "a0a2e1ba",
   "metadata": {},
   "source": [
    "## Problem setup\n",
    "Setup the Problem with the following input structure:\n",
    "\n",
    "  Problem (\n",
    "```\n",
    "1. computational geometry\n",
    "2. ODE Residual\n",
    "3. Initial condition\n",
    "4. Nr of collocation points inside the domain\n",
    "5. Nr of collocation points on the boundary\n",
    "6. analytical solution\n",
    "7. Nr of testing points inside the domain\n",
    "```\n",
    "  )"
   ]
  },
  {
   "cell_type": "code",
   "execution_count": 29,
   "id": "2f0699b6",
   "metadata": {},
   "outputs": [],
   "source": [
    "data = dde.data.PDE(geom, ode, ic, num_domain=100, num_boundary=2, solution=func, num_test=150)"
   ]
  },
  {
   "cell_type": "markdown",
   "id": "bd8c1edb",
   "metadata": {},
   "source": [
    "***"
   ]
  },
  {
   "cell_type": "markdown",
   "id": "e9eb6c17",
   "metadata": {},
   "source": [
    "## Neuronal Network Setup\n",
    "Set the Neuronal Network Parameters with the following input structure:\n",
    "\n",
    "`([input] + [neurons] * Nr. of hidden layers + [output], \"activation function\", \"Initializer\")`"
   ]
  },
  {
   "cell_type": "code",
   "execution_count": 30,
   "id": "7844c831",
   "metadata": {},
   "outputs": [],
   "source": [
    "net = dde.nn.FNN([1] + [75]*4 + [1], \"tanh\", \"Glorot uniform\")"
   ]
  },
  {
   "cell_type": "markdown",
   "id": "053466b4",
   "metadata": {},
   "source": [
    "## Union of Problem and Neuronal Network"
   ]
  },
  {
   "cell_type": "code",
   "execution_count": 31,
   "id": "cae947a5",
   "metadata": {},
   "outputs": [],
   "source": [
    "model = dde.Model(data, net)"
   ]
  },
  {
   "cell_type": "markdown",
   "id": "f20185d9",
   "metadata": {},
   "source": [
    "## Definition of training parameters/algorithm\n",
    "Set the hyper-parameters for the optimization with the following input structure:\n",
    "\n",
    "`(training algorithm, learning rate)`"
   ]
  },
  {
   "cell_type": "code",
   "execution_count": 32,
   "id": "8473cb6b",
   "metadata": {},
   "outputs": [
    {
     "name": "stdout",
     "output_type": "stream",
     "text": [
      "Compiling model...\n",
      "Building feed-forward neural network...\n",
      "'build' took 0.098422 s\n",
      "\n"
     ]
    },
    {
     "name": "stderr",
     "output_type": "stream",
     "text": [
      "/usr/local/lib/python3.9/site-packages/deepxde/nn/tensorflow_compat_v1/fnn.py:103: UserWarning: `tf.layers.dense` is deprecated and will be removed in a future version. Please use `tf.keras.layers.Dense` instead.\n",
      "  return tf.layers.dense(\n",
      "/usr/local/lib/python3.9/site-packages/keras/legacy_tf_layers/core.py:261: UserWarning: `layer.apply` is deprecated and will be removed in a future version. Please use `layer.__call__` method instead.\n",
      "  return layer.apply(inputs)\n"
     ]
    },
    {
     "name": "stdout",
     "output_type": "stream",
     "text": [
      "'compile' took 0.606121 s\n",
      "\n"
     ]
    }
   ],
   "source": [
    "model.compile(\"adam\", lr=0.001)"
   ]
  },
  {
   "cell_type": "markdown",
   "id": "0ac2f34a",
   "metadata": {},
   "source": [
    "## Training of the model\n",
    "Choose the `number of training epochs`."
   ]
  },
  {
   "cell_type": "code",
   "execution_count": 33,
   "id": "dd59b978",
   "metadata": {},
   "outputs": [
    {
     "name": "stdout",
     "output_type": "stream",
     "text": [
      "Initializing variables...\n",
      "Training model...\n",
      "\n",
      "Step      Train loss              Test loss               Test metric\n",
      "0         [1.77e-02, 1.00e+00]    [1.80e-02, 1.00e+00]    []  \n",
      "1000      [2.22e-01, 1.40e-01]    [2.28e-01, 1.40e-01]    []  \n",
      "2000      [9.96e-03, 3.61e-03]    [1.00e-02, 3.61e-03]    []  \n",
      "3000      [9.13e-05, 1.32e-07]    [7.11e-05, 1.32e-07]    []  \n",
      "4000      [2.81e-05, 1.55e-09]    [2.47e-05, 1.55e-09]    []  \n",
      "5000      [9.26e-03, 1.64e-05]    [9.26e-03, 1.64e-05]    []  \n",
      "6000      [1.07e-05, 1.37e-08]    [1.09e-05, 1.37e-08]    []  \n",
      "7000      [8.39e-03, 7.74e-05]    [8.30e-03, 7.74e-05]    []  \n",
      "8000      [1.95e-05, 8.04e-09]    [1.88e-05, 8.04e-09]    []  \n",
      "9000      [1.22e-02, 5.89e-04]    [1.21e-02, 5.89e-04]    []  \n",
      "10000     [1.64e-05, 1.86e-07]    [1.54e-05, 1.86e-07]    []  \n",
      "\n",
      "Best model at step 6000:\n",
      "  train loss: 1.07e-05\n",
      "  test loss: 1.10e-05\n",
      "  test metric: []\n",
      "\n",
      "'train' took 26.360377 s\n",
      "\n"
     ]
    }
   ],
   "source": [
    "losshistory, train_state = model.train(epochs=10000)"
   ]
  },
  {
   "cell_type": "markdown",
   "id": "d8d792b5",
   "metadata": {},
   "source": [
    "## Plotting\n",
    "The first plot is the train- and test loss in every epoch.\n",
    "\n",
    "The second plot is the comparison between the analytical and the predicted solution in the train model chosen by adam optimization."
   ]
  },
  {
   "cell_type": "code",
   "execution_count": 34,
   "id": "75326a20",
   "metadata": {},
   "outputs": [
    {
     "data": {
      "image/png": "[encoded data removed]",
      "text/plain": [
       "<Figure size 432x288 with 1 Axes>"
      ]
     },
     "metadata": {
      "needs_background": "light"
     },
     "output_type": "display_data"
    },
    {
     "data": {
      "image/png": "[encoded data removed]",
      "text/plain": [
       "<Figure size 432x288 with 1 Axes>"
      ]
     },
     "metadata": {
      "needs_background": "light"
     },
     "output_type": "display_data"
    }
   ],
   "source": [
    "dde.saveplot(losshistory, train_state, issave=False, isplot=True)"
   ]
  },
  {
   "cell_type": "code",
   "execution_count": null,
   "id": "45f105e3",
   "metadata": {},
   "outputs": [],
   "source": []
  }
 ],
 "metadata": {
  "kernelspec": {
   "display_name": "Python 3 (ipykernel)",
   "language": "python",
   "name": "python3"
  },
  "language_info": {
   "codemirror_mode": {
    "name": "ipython",
    "version": 3
   },
   "file_extension": ".py",
   "mimetype": "text/x-python",
   "name": "python",
   "nbconvert_exporter": "python",
   "pygments_lexer": "ipython3",
   "version": "3.9.9"
  }
 },
 "nbformat": 4,
 "nbformat_minor": 5
}
