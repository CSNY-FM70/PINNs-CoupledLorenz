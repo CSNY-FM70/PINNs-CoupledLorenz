{
 "cells": [
  {
   "cell_type": "markdown",
   "id": "737f76de",
   "metadata": {},
   "source": [
    "## Import all libraries\n",
    " >Note that deepxde imports tensorflow already"
   ]
  },
  {
   "cell_type": "code",
   "execution_count": 1,
   "id": "e4961fe4",
   "metadata": {},
   "outputs": [
    {
     "name": "stderr",
     "output_type": "stream",
     "text": [
      "Using backend: tensorflow.compat.v1\n",
      "\n",
      "2022-05-23 11:34:21.092850: W tensorflow/stream_executor/platform/default/dso_loader.cc:64] Could not load dynamic library 'libcudart.so.11.0'; dlerror: libcudart.so.11.0: cannot open shared object file: No such file or directory\n",
      "2022-05-23 11:34:21.092894: I tensorflow/stream_executor/cuda/cudart_stub.cc:29] Ignore above cudart dlerror if you do not have a GPU set up on your machine.\n"
     ]
    },
    {
     "name": "stdout",
     "output_type": "stream",
     "text": [
      "WARNING:tensorflow:From /home/Alejandro/.local/lib/python3.9/site-packages/tensorflow/python/compat/v2_compat.py:111: disable_resource_variables (from tensorflow.python.ops.variable_scope) is deprecated and will be removed in a future version.\n",
      "Instructions for updating:\n",
      "non-resource variables are not supported in the long term\n",
      "WARNING:tensorflow:From /home/Alejandro/.local/lib/python3.9/site-packages/deepxde/nn/initializers.py:116: The name tf.keras.initializers.he_normal is deprecated. Please use tf.compat.v1.keras.initializers.he_normal instead.\n",
      "\n"
     ]
    }
   ],
   "source": [
    "import deepxde as dde\n",
    "import numpy as np"
   ]
  },
  {
   "cell_type": "markdown",
   "id": "6c2b4b16",
   "metadata": {},
   "source": [
    "## Definition of the problem constants\n",
    "- N_0 > Initial number of atoms\n",
    "- dpy > decay rate [1/year]\n",
    "- t_end > Time [year]"
   ]
  },
  {
   "cell_type": "code",
   "execution_count": 2,
   "id": "76884e8c",
   "metadata": {},
   "outputs": [],
   "source": [
    "N_0 = 1\n",
    "dpy = 0.693/28.8\n",
    "t_end = 28.8"
   ]
  },
  {
   "cell_type": "markdown",
   "id": "7fede5d0",
   "metadata": {},
   "source": [
    "## Specification of the geometry\n",
    ">Note that this example is only time dependent and has no space domain."
   ]
  },
  {
   "cell_type": "code",
   "execution_count": 3,
   "id": "fdbb4ad8",
   "metadata": {},
   "outputs": [],
   "source": [
    "geom = dde.geometry.TimeDomain(0,t_end)"
   ]
  },
  {
   "cell_type": "markdown",
   "id": "0a9dd371",
   "metadata": {},
   "source": [
    "## We define the ODE \n",
    "Define the residual using Tensowrflow syntax.\n",
    "\n",
    "$$\n",
    "dN/dt = - \\lambda * N(t)\n",
    "$$\n",
    "\n",
    ">Note that we need the implicit form here."
   ]
  },
  {
   "cell_type": "code",
   "execution_count": 4,
   "id": "6cf12976",
   "metadata": {},
   "outputs": [],
   "source": [
    "def ode(t, N):\n",
    "    dN_t = dde.grad.jacobian(N, t)\n",
    "    return (dN_t + (dpy * N))"
   ]
  },
  {
   "cell_type": "markdown",
   "id": "52b8889d",
   "metadata": {},
   "source": [
    "## Add analytical solution\n",
    "The analytical solution will only be displayed in the plots for visual comparison.\\\n",
    "This step is optional.\n",
    "$$\n",
    "N(t) = N_0 * exp(- \\lambda * t)\n",
    "$$"
   ]
  },
  {
   "cell_type": "code",
   "execution_count": 5,
   "id": "b70e367d",
   "metadata": {},
   "outputs": [],
   "source": [
    "def func(t):\n",
    "    return N_0 * np.exp(-dpy*t)"
   ]
  },
  {
   "cell_type": "markdown",
   "id": "2e9f9d26",
   "metadata": {},
   "source": [
    "## Add initial condition\n",
    "$$\n",
    "N(0)=N_0\n",
    "$$"
   ]
  },
  {
   "cell_type": "code",
   "execution_count": 6,
   "id": "578d2293",
   "metadata": {},
   "outputs": [],
   "source": [
    "ic = dde.icbc.IC(geom, lambda x:N_0, lambda _, on_initial: on_initial)"
   ]
  },
  {
   "cell_type": "markdown",
   "id": "a0a2e1ba",
   "metadata": {},
   "source": [
    "## Problem setup\n",
    "Setup the Problem with the following input structure:\n",
    "\n",
    "Problem (\n",
    "```\n",
    "1. computational geometry\n",
    "2. ODE Residual\n",
    "3. Initial condition\n",
    "4. Nr of collocation points inside the domain\n",
    "5. Nr of collocation points on the boundary\n",
    "6. analytical solution\n",
    "7. Nr of testing points inside the domain\n",
    "```\n",
    ")"
   ]
  },
  {
   "cell_type": "code",
   "execution_count": 7,
   "id": "2f0699b6",
   "metadata": {},
   "outputs": [],
   "source": [
    "data = dde.data.PDE(geom, ode, ic, num_domain=30, num_boundary=2, solution=func, num_test=40)"
   ]
  },
  {
   "cell_type": "markdown",
   "id": "cc422d50",
   "metadata": {},
   "source": [
    "***"
   ]
  },
  {
   "cell_type": "markdown",
   "id": "e9eb6c17",
   "metadata": {},
   "source": [
    "## Neuronal Network Setup\n",
    "Set the Neuronal Network Parameters with the following input structure:\n",
    "\n",
    "`([input] + [neurons] * Nr. of hidden layers + [output], \"activation function\", \"Initializer\")`"
   ]
  },
  {
   "cell_type": "code",
   "execution_count": 18,
   "id": "7844c831",
   "metadata": {},
   "outputs": [],
   "source": [
    "net = dde.nn.FNN([1] + [50]*1 + [1], \"relu\", \"Glorot uniform\")"
   ]
  },
  {
   "cell_type": "markdown",
   "id": "053466b4",
   "metadata": {},
   "source": [
    "## Union of Problem and Neural Network"
   ]
  },
  {
   "cell_type": "code",
   "execution_count": 19,
   "id": "cae947a5",
   "metadata": {},
   "outputs": [],
   "source": [
    "model = dde.Model(data, net)"
   ]
  },
  {
   "cell_type": "markdown",
   "id": "f20185d9",
   "metadata": {},
   "source": [
    "## Definition of training parameters/algorithm\n",
    "Set the hyper-parameters for the optimization with the following input structure:\n",
    "\n",
    "`(training algorithm, learning rate)`"
   ]
  },
  {
   "cell_type": "code",
   "execution_count": 20,
   "id": "8473cb6b",
   "metadata": {},
   "outputs": [
    {
     "name": "stdout",
     "output_type": "stream",
     "text": [
      "Compiling model...\n",
      "Building feed-forward neural network...\n",
      "'build' took 0.051874 s\n",
      "\n",
      "'compile' took 0.187471 s\n",
      "\n"
     ]
    },
    {
     "name": "stderr",
     "output_type": "stream",
     "text": [
      "/home/Alejandro/.local/lib/python3.9/site-packages/deepxde/nn/tensorflow_compat_v1/fnn.py:103: UserWarning: `tf.layers.dense` is deprecated and will be removed in a future version. Please use `tf.keras.layers.Dense` instead.\n",
      "  return tf.layers.dense(\n",
      "/home/Alejandro/.local/lib/python3.9/site-packages/keras/legacy_tf_layers/core.py:255: UserWarning: `layer.apply` is deprecated and will be removed in a future version. Please use `layer.__call__` method instead.\n",
      "  return layer.apply(inputs)\n"
     ]
    }
   ],
   "source": [
    "#model.compile(\"adam\", lr=0.001)\n",
    "model.compile(\"L-BFGS\")"
   ]
  },
  {
   "cell_type": "markdown",
   "id": "0ac2f34a",
   "metadata": {},
   "source": [
    "## Training of the model\n",
    "Choose the `number of training epochs`."
   ]
  },
  {
   "cell_type": "code",
   "execution_count": 21,
   "id": "dd59b978",
   "metadata": {},
   "outputs": [
    {
     "name": "stdout",
     "output_type": "stream",
     "text": [
      "Initializing variables...\n",
      "Training model...\n",
      "\n",
      "Step      Train loss              Test loss               Test metric\n",
      "0         [5.87e-03, 1.00e+00]    [5.95e-03, 1.00e+00]    []  \n",
      "INFO:tensorflow:Optimization terminated with:\n",
      "  Message: CONVERGENCE: REL_REDUCTION_OF_F_<=_FACTR*EPSMCH\n",
      "  Objective function value: 0.000030\n",
      "  Number of iterations: 9\n",
      "  Number of functions evaluations: 28\n",
      "28        [3.03e-05, 4.01e-09]    [1.19e-05, 4.01e-09]    []  \n",
      "\n",
      "Best model at step 28:\n",
      "  train loss: 3.03e-05\n",
      "  test loss: 1.19e-05\n",
      "  test metric: []\n",
      "\n",
      "'train' took 0.247569 s\n",
      "\n"
     ]
    }
   ],
   "source": [
    "#losshistory, train_state = model.train(epochs=20000)\n",
    "losshistory, train_state = model.train()"
   ]
  },
  {
   "cell_type": "markdown",
   "id": "d8d792b5",
   "metadata": {},
   "source": [
    "## Plotting\n",
    "The first plot is the train- and test loss in every epoch.\n",
    "\n",
    "The second plot is the comparison between the analytical and the predicted solution in the train model chosen by adam optimization."
   ]
  },
  {
   "cell_type": "code",
   "execution_count": 17,
   "id": "75326a20",
   "metadata": {
    "scrolled": true
   },
   "outputs": [
    {
     "data": {
      "image/png": "[encoded data removed]",
      "text/plain": [
       "<Figure size 432x288 with 1 Axes>"
      ]
     },
     "metadata": {
      "needs_background": "light"
     },
     "output_type": "display_data"
    },
    {
     "data": {
      "image/png": "[encoded data removed]",
      "text/plain": [
       "<Figure size 432x288 with 1 Axes>"
      ]
     },
     "metadata": {
      "needs_background": "light"
     },
     "output_type": "display_data"
    },
    {
     "data": {
      "image/png": "[encoded data removed]",
      "text/plain": [
       "<Figure size 432x288 with 1 Axes>"
      ]
     },
     "metadata": {
      "needs_background": "light"
     },
     "output_type": "display_data"
    }
   ],
   "source": [
    "dde.saveplot(losshistory, train_state, issave=False, isplot=True)"
   ]
  },
  {
   "cell_type": "code",
   "execution_count": null,
   "id": "7a186d44",
   "metadata": {},
   "outputs": [],
   "source": []
  }
 ],
 "metadata": {
  "kernelspec": {
   "display_name": "Python 3 (ipykernel)",
   "language": "python",
   "name": "python3"
  },
  "language_info": {
   "codemirror_mode": {
    "name": "ipython",
    "version": 3
   },
   "file_extension": ".py",
   "mimetype": "text/x-python",
   "name": "python",
   "nbconvert_exporter": "python",
   "pygments_lexer": "ipython3",
   "version": "3.9.2"
  }
 },
 "nbformat": 4,
 "nbformat_minor": 5
}
