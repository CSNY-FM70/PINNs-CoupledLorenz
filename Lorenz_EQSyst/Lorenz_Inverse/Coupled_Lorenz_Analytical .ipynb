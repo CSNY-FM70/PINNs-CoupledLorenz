{
 "cells": [
  {
   "cell_type": "code",
   "execution_count": 11,
   "id": "1091824b",
   "metadata": {},
   "outputs": [],
   "source": [
    "import numpy as np\n",
    "import matplotlib.pyplot as plt\n",
    "from scipy.integrate import odeint, solve_ivp\n",
    "from mpl_toolkits.mplot3d import Axes3D"
   ]
  },
  {
   "cell_type": "code",
   "execution_count": 12,
   "id": "83184aeb",
   "metadata": {},
   "outputs": [],
   "source": [
    "rho = 15\n",
    "sigma = 10\n",
    "beta = 8/3\n",
    "rho_2 = 10\n",
    "sigma_2 = 12\n",
    "beta_2 = 8/3\n",
    "mue_1 = 0.1\n",
    "mue_2 = 0.1\n",
    "mue_3 = 0.1\n",
    "p = (rho, sigma, beta, rho_2, sigma_2, beta_2, mue_1, mue_2, mue_3)"
   ]
  },
  {
   "cell_type": "code",
   "execution_count": 13,
   "id": "50702c8d",
   "metadata": {},
   "outputs": [],
   "source": [
    "def f(t, state, rho, sigma, beta, rho_2, sigma_2, beta_2, mue_1, mue_2, mue_3):\n",
    "    x1, y1, z1, x2, y2, z2 = state  # Unpack the state vector\n",
    "    return [sigma*(y1-x1), x1*(rho-z1)-y1, x1*y1-beta*z1, sigma_2*(y2-x2) + mue_1*(7.3*x1+np.cos(x1)), x2*(rho_2-z2)-y2 + mue_2*(1.2*y1+0.5*np.arctan(y1)), x2*y2-beta_2*z2 + mue_3*(3.5*z1+0.9*np.exp(z1))]"
   ]
  },
  {
   "cell_type": "code",
   "execution_count": 14,
   "id": "cdbb3d96",
   "metadata": {},
   "outputs": [],
   "source": [
    "state0 = [13.561, 10.162, 36.951, 3.948, 4.187, 11.531]\n",
    "time = np.arange(0.0, 3.0, 1)\n",
    "timedata = np.arange(0.0, 3.0, 1)[:,np.newaxis]\n",
    "t_span = (0.0, 3.0)"
   ]
  },
  {
   "cell_type": "code",
   "execution_count": 15,
   "id": "6047e783",
   "metadata": {},
   "outputs": [],
   "source": [
    "#states = solve_ivp(f, state0, time)\n",
    "#result_solve_ivp = solve_ivp(lorenz, t_span, y0, args=p, method='LSODA', t_eval=t)\n",
    "states = solve_ivp(f, t_span, state0, args=p, method='Radau', t_eval=time)"
   ]
  },
  {
   "cell_type": "code",
   "execution_count": null,
   "id": "903fc1c1",
   "metadata": {},
   "outputs": [],
   "source": [
    "np.savez ('/home/Alejandro/Gitlab/pinns/Lorenz_EQSyst/Lorenz_Inverse/data', t=timedata, w=states)\n",
    "data = np.load('/home/Alejandro/Gitlab/pinns/Lorenz_EQSyst/Lorenz_Inverse/data.npz')\n",
    "print(data['t'])\n",
    "print(data['w'])\n",
    "print (len (data['t']))\n",
    "print (len (data['w']))"
   ]
  },
  {
   "cell_type": "code",
   "execution_count": null,
   "id": "3c8dc7ad",
   "metadata": {},
   "outputs": [],
   "source": [
    "fig = plt.figure()\n",
    "ax = fig.gca(projection=\"3d\")\n",
    "ax.plot(states[:, 0], states[:, 1], states[:, 2])\n",
    "\n",
    "plt.draw()\n",
    "plt.show()"
   ]
  },
  {
   "cell_type": "code",
   "execution_count": null,
   "id": "937bade2",
   "metadata": {},
   "outputs": [],
   "source": [
    "fig = plt.figure()\n",
    "ax = fig.gca(projection=\"3d\")\n",
    "ax.plot(states[:, 3], states[:, 4], states[:, 5])\n",
    "\n",
    "plt.draw()\n",
    "plt.show()"
   ]
  },
  {
   "cell_type": "code",
   "execution_count": null,
   "id": "ec399c69",
   "metadata": {},
   "outputs": [],
   "source": []
  },
  {
   "cell_type": "code",
   "execution_count": null,
   "id": "1eb5db89",
   "metadata": {},
   "outputs": [],
   "source": []
  }
 ],
 "metadata": {
  "kernelspec": {
   "display_name": "Python 3 (ipykernel)",
   "language": "python",
   "name": "python3"
  },
  "language_info": {
   "codemirror_mode": {
    "name": "ipython",
    "version": 3
   },
   "file_extension": ".py",
   "mimetype": "text/x-python",
   "name": "python",
   "nbconvert_exporter": "python",
   "pygments_lexer": "ipython3",
   "version": "3.9.2"
  }
 },
 "nbformat": 4,
 "nbformat_minor": 5
}
