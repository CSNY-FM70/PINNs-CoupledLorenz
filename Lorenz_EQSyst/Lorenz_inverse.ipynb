{
 "cells": [
  {
   "cell_type": "code",
   "execution_count": 68,
   "id": "3ce3ae2d",
   "metadata": {},
   "outputs": [],
   "source": [
    "import deepxde as dde\n",
    "import numpy as np"
   ]
  },
  {
   "cell_type": "code",
   "execution_count": 69,
   "id": "2b72d28e",
   "metadata": {},
   "outputs": [],
   "source": [
    "a = dde.Variable(1.0)\n",
    "b = dde.Variable(1.0)\n",
    "c = dde.Variable(1.0)"
   ]
  },
  {
   "cell_type": "code",
   "execution_count": 70,
   "id": "d2e6169c",
   "metadata": {},
   "outputs": [],
   "source": [
    "geom = dde.geometry.TimeDomain(0, 40)"
   ]
  },
  {
   "cell_type": "code",
   "execution_count": 71,
   "id": "4fddc3a1",
   "metadata": {},
   "outputs": [],
   "source": [
    "def Lorenz_system(t, w):\n",
    "    x, y, z = w[:, 0:1], w[:, 1:2], w[:, 2:]\n",
    "    dx_t = dde.grad.jacobian(w, t, i=0)\n",
    "    dy_t = dde.grad.jacobian(w, t, i=1)\n",
    "    dz_t = dde.grad.jacobian(w, t, i=2)\n",
    "    return [\n",
    "        dx_t - a * (y - x),\n",
    "        dy_t - x * (b - z) - y, \n",
    "        dz_t - x * y - c * z,\n",
    "    ]"
   ]
  },
  {
   "cell_type": "code",
   "execution_count": 72,
   "id": "621857b9",
   "metadata": {},
   "outputs": [],
   "source": [
    "ic1 = dde.icbc.IC(geom, lambda X: 1, lambda _, on_initial: on_initial, component=0)\n",
    "ic2 = dde.icbc.IC(geom, lambda X: 1, lambda _, on_initial: on_initial, component=1)\n",
    "ic3 = dde.icbc.IC(geom, lambda X: 1, lambda _, on_initial: on_initial, component=2)"
   ]
  },
  {
   "cell_type": "code",
   "execution_count": 73,
   "id": "a9c3cacf",
   "metadata": {},
   "outputs": [],
   "source": [
    "def gen_traindata():\n",
    "    data = np.load(\"/home/Alejandro/Gitlab/pinns/Lorenz_EQSyst/data.npz\")\n",
    "    return data[\"t\"], data[\"w\"]"
   ]
  },
  {
   "cell_type": "code",
   "execution_count": 75,
   "id": "607f76ac",
   "metadata": {},
   "outputs": [],
   "source": [
    "observe_t, ob_w = gen_traindata()\n",
    "observe_x = dde.icbc.PointSetBC(observe_t, ob_w[:, 0:1], component=0)\n",
    "observe_y = dde.icbc.PointSetBC(observe_t, ob_w[:, 1:2], component=1)\n",
    "observe_z = dde.icbc.PointSetBC(observe_t, ob_w[:, 2:3], component=2)"
   ]
  },
  {
   "cell_type": "code",
   "execution_count": 76,
   "id": "21475bbd",
   "metadata": {},
   "outputs": [
    {
     "name": "stderr",
     "output_type": "stream",
     "text": [
      "/home/Alejandro/.local/lib/python3.9/site-packages/skopt/sampler/sobol.py:246: UserWarning: The balance properties of Sobol' points require n to be a power of 2. 0 points have been previously generated, then: n=0+1002=1002. \n",
      "  warnings.warn(\"The balance properties of Sobol' points require \"\n"
     ]
    }
   ],
   "source": [
    "data = dde.data.PDE(\n",
    "    geom,\n",
    "    Lorenz_system,\n",
    "    [ic1, ic2, ic3, observe_x, observe_y, observe_z],\n",
    "    num_domain=400,\n",
    "    num_boundary=2,\n",
    "    anchors=observe_t,\n",
    ")"
   ]
  },
  {
   "cell_type": "code",
   "execution_count": 77,
   "id": "5368c6a8",
   "metadata": {},
   "outputs": [],
   "source": [
    "net = dde.nn.FNN([1] + [40] * 3 + [3], \"tanh\", \"Glorot uniform\")"
   ]
  },
  {
   "cell_type": "code",
   "execution_count": 79,
   "id": "6a42ee19",
   "metadata": {},
   "outputs": [
    {
     "name": "stdout",
     "output_type": "stream",
     "text": [
      "Compiling model...\n",
      "Warning: For the backend tensorflow.compat.v1, `external_trainable_variables` is ignored, and all trainable ``tf.Variable`` objects are automatically collected.\n",
      "Building feed-forward neural network...\n",
      "'build' took 0.079934 s\n",
      "\n"
     ]
    },
    {
     "name": "stderr",
     "output_type": "stream",
     "text": [
      "/home/Alejandro/.local/lib/python3.9/site-packages/deepxde/nn/tensorflow_compat_v1/fnn.py:103: UserWarning: `tf.layers.dense` is deprecated and will be removed in a future version. Please use `tf.keras.layers.Dense` instead.\n",
      "  return tf.layers.dense(\n",
      "/home/Alejandro/.local/lib/python3.9/site-packages/keras/legacy_tf_layers/core.py:255: UserWarning: `layer.apply` is deprecated and will be removed in a future version. Please use `layer.__call__` method instead.\n",
      "  return layer.apply(inputs)\n",
      "2022-05-12 18:16:39.282358: W tensorflow/stream_executor/platform/default/dso_loader.cc:64] Could not load dynamic library 'libcuda.so.1'; dlerror: libcuda.so.1: cannot open shared object file: No such file or directory\n",
      "2022-05-12 18:16:39.282403: W tensorflow/stream_executor/cuda/cuda_driver.cc:269] failed call to cuInit: UNKNOWN ERROR (303)\n",
      "2022-05-12 18:16:39.282440: I tensorflow/stream_executor/cuda/cuda_diagnostics.cc:156] kernel driver does not appear to be running on this host (lenovardo): /proc/driver/nvidia/version does not exist\n",
      "2022-05-12 18:16:39.283670: I tensorflow/core/platform/cpu_feature_guard.cc:151] This TensorFlow binary is optimized with oneAPI Deep Neural Network Library (oneDNN) to use the following CPU instructions in performance-critical operations:  AVX2 FMA\n",
      "To enable them in other operations, rebuild TensorFlow with the appropriate compiler flags.\n"
     ]
    },
    {
     "name": "stdout",
     "output_type": "stream",
     "text": [
      "'compile' took 0.594947 s\n",
      "\n"
     ]
    }
   ],
   "source": [
    "model = dde.Model(data, net)\n",
    "model.compile(\"adam\", lr=0.001, external_trainable_variables=[a, b, c])\n",
    "variable = dde.callbacks.VariableValue(\n",
    "  [a, b, c], period=600, filename=\"variables.dat\"\n",
    ")"
   ]
  },
  {
   "cell_type": "code",
   "execution_count": null,
   "id": "12a60f64",
   "metadata": {},
   "outputs": [
    {
     "name": "stdout",
     "output_type": "stream",
     "text": [
      "Initializing variables...\n",
      "Training model...\n",
      "\n",
      "Step      Train loss                                                                                    Test loss                                                                                     Test metric\n",
      "0         [3.52e+00, 2.70e-01, 1.83e+00, 1.00e+00, 1.00e+00, 1.00e+00, 6.37e+01, 8.44e+01, 6.84e+02]    [3.52e+00, 2.70e-01, 1.83e+00, 1.00e+00, 1.00e+00, 1.00e+00, 6.37e+01, 8.44e+01, 6.84e+02]    []  \n",
      "1000      [1.65e-01, 1.83e-01, 8.72e+00, 2.46e-04, 1.38e-02, 2.92e-01, 6.37e+01, 5.95e+01, 6.97e+01]    [1.65e-01, 1.83e-01, 8.72e+00, 2.46e-04, 1.38e-02, 2.92e-01, 6.37e+01, 5.95e+01, 6.97e+01]    []  \n",
      "2000      [8.63e-02, 6.12e-01, 7.14e+00, 2.78e-02, 2.09e-02, 2.67e-01, 6.30e+01, 5.55e+01, 6.48e+01]    [8.63e-02, 6.12e-01, 7.14e+00, 2.78e-02, 2.09e-02, 2.67e-01, 6.30e+01, 5.55e+01, 6.48e+01]    []  \n",
      "3000      [6.23e-01, 1.78e+00, 4.99e+00, 1.22e-01, 2.95e-01, 5.80e-02, 6.27e+01, 5.44e+01, 6.35e+01]    [6.23e-01, 1.78e+00, 4.99e+00, 1.22e-01, 2.95e-01, 5.80e-02, 6.27e+01, 5.44e+01, 6.35e+01]    []  \n",
      "4000      [1.73e+00, 2.70e+00, 2.29e+00, 1.89e-01, 2.86e-01, 1.07e-02, 6.24e+01, 5.39e+01, 6.19e+01]    [1.73e+00, 2.70e+00, 2.29e+00, 1.89e-01, 2.86e-01, 1.07e-02, 6.24e+01, 5.39e+01, 6.19e+01]    []  \n",
      "5000      [2.20e+00, 2.28e+00, 2.06e+00, 2.42e-01, 2.10e-01, 2.59e-02, 6.21e+01, 5.25e+01, 6.10e+01]    [2.20e+00, 2.28e+00, 2.06e+00, 2.42e-01, 2.10e-01, 2.59e-02, 6.21e+01, 5.25e+01, 6.10e+01]    []  \n"
     ]
    }
   ],
   "source": [
    "losshistory, train_state = model.train(epochs=60000, callbacks=[variable])\n",
    "dde.saveplot(losshistory, train_state, issave=True, isplot=True)"
   ]
  },
  {
   "cell_type": "code",
   "execution_count": null,
   "id": "93c1a7fc",
   "metadata": {},
   "outputs": [],
   "source": []
  }
 ],
 "metadata": {
  "kernelspec": {
   "display_name": "Python 3 (ipykernel)",
   "language": "python",
   "name": "python3"
  },
  "language_info": {
   "codemirror_mode": {
    "name": "ipython",
    "version": 3
   },
   "file_extension": ".py",
   "mimetype": "text/x-python",
   "name": "python",
   "nbconvert_exporter": "python",
   "pygments_lexer": "ipython3",
   "version": "3.8.12"
  }
 },
 "nbformat": 4,
 "nbformat_minor": 5
}
